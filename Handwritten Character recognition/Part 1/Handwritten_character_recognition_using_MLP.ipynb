{
  "nbformat": 4,
  "nbformat_minor": 0,
  "metadata": {
    "accelerator": "GPU",
    "colab": {
      "name": "Handwritten_character_recognition_MLP.ipynb",
      "provenance": [],
      "collapsed_sections": [],
      "include_colab_link": true
    },
    "kernelspec": {
      "display_name": "Python 3",
      "name": "python3"
    },
    "language_info": {
      "name": "python"
    }
  },
  "cells": [
    {
      "cell_type": "markdown",
      "metadata": {
        "id": "view-in-github",
        "colab_type": "text"
      },
      "source": [
        "<a href=\"https://colab.research.google.com/github/sachinomdubey/PRML_Project/blob/main/Codes/Part%201/Handwritten_character_recognition_using_MLP.ipynb\" target=\"_parent\"><img src=\"https://colab.research.google.com/assets/colab-badge.svg\" alt=\"Open In Colab\"/></a>"
      ]
    },
    {
      "cell_type": "code",
      "metadata": {
        "id": "cSNKYXOVASJ0"
      },
      "source": [
        "######################## PRML PROJECT ##########################################\n",
        "# Title   : Handwritten Character Recognition using NNs (Part-1)\n",
        "# Team    : Anuradha Uggi (EE21RESCH01008), Sachinkumar Dubey (EE20MTECH11009)\n",
        "# Course  : PRML\n",
        "#\n",
        "# Details : In this project, Permorfance of MLPs and CNNs are analysed and\n",
        "#           compared in the application of recognition of handwritten characters.\n",
        "#\n",
        "#           This is the part-1 program which uses MLPs and analyses its \n",
        "#           performance and effect of varying various parameters of the network.\n",
        "#           For CNN implementation, please refer part-2 program.\n",
        "################################################################################"
      ],
      "execution_count": null,
      "outputs": []
    },
    {
      "cell_type": "code",
      "metadata": {
        "id": "V9fgXjArC6BH"
      },
      "source": [
        "# Importing the required libraries:\n",
        "\n",
        "import numpy as np\n",
        "from random import randint\n",
        "from keras.models import Sequential\n",
        "from keras.layers import Dense\n",
        "#from keras.wrappers.scikit_learn import KerasClassifier\n",
        "from keras.utils import np_utils\n",
        "#from sklearn.model_selection import cross_val_score\n",
        "#from sklearn.model_selection import KFold\n",
        "from sklearn.preprocessing import LabelEncoder\n",
        "#from sklearn.pipeline import Pipeline\n",
        "#from keras.callbacks import CSVLogger\n",
        "import pandas as pd\n",
        "import cv2 as cv\n",
        "#from keras.optimizers import SGD\n",
        "import matplotlib.pyplot as plt\n",
        "from numpy import linalg as LA"
      ],
      "execution_count": null,
      "outputs": []
    },
    {
      "cell_type": "code",
      "metadata": {
        "colab": {
          "base_uri": "https://localhost:8080/"
        },
        "id": "0CxEBxcSEnBh",
        "outputId": "17369cd7-84ca-4db8-b144-e3ef13e7011f"
      },
      "source": [
        "# The dataset is uploaded to the following path in the personal google drive (/content/drive/MyDrive/PRML/Project/MNIST_data/gzip/)\n",
        "# Thus, Mounting the google drive to access the same for training of the network\n",
        "\n",
        "from google.colab import drive\n",
        "drive.mount('/content/drive')"
      ],
      "execution_count": null,
      "outputs": [
        {
          "output_type": "stream",
          "text": [
            "Mounted at /content/drive\n"
          ],
          "name": "stdout"
        }
      ]
    },
    {
      "cell_type": "code",
      "metadata": {
        "colab": {
          "base_uri": "https://localhost:8080/"
        },
        "id": "tlw9CoNHSmKJ",
        "outputId": "56becde1-3004-41a1-83c4-1f34efa84fdd"
      },
      "source": [
        "# Installing the 'idx2numpy' Library which is required to read the dataset present in an idx file into a numpy array\n",
        "% pip install idx2numpy"
      ],
      "execution_count": null,
      "outputs": [
        {
          "output_type": "stream",
          "text": [
            "Collecting idx2numpy\n",
            "  Downloading idx2numpy-1.2.3.tar.gz (6.8 kB)\n",
            "Requirement already satisfied: numpy in /usr/local/lib/python3.7/dist-packages (from idx2numpy) (1.19.5)\n",
            "Requirement already satisfied: six in /usr/local/lib/python3.7/dist-packages (from idx2numpy) (1.15.0)\n",
            "Building wheels for collected packages: idx2numpy\n",
            "  Building wheel for idx2numpy (setup.py) ... \u001b[?25l\u001b[?25hdone\n",
            "  Created wheel for idx2numpy: filename=idx2numpy-1.2.3-py3-none-any.whl size=7918 sha256=419318b04195ef326039cf94905c47ad1feb218ef6f3aef4b373b8a3bfd5cdb1\n",
            "  Stored in directory: /root/.cache/pip/wheels/1a/ce/ad/d5e95a35cfe34149aade5e500f2edd535c0566d79e9a8e1d8a\n",
            "Successfully built idx2numpy\n",
            "Installing collected packages: idx2numpy\n",
            "Successfully installed idx2numpy-1.2.3\n"
          ],
          "name": "stdout"
        }
      ]
    },
    {
      "cell_type": "code",
      "metadata": {
        "colab": {
          "base_uri": "https://localhost:8080/"
        },
        "id": "9ViEg1D3Sjca",
        "outputId": "58309e15-ad8a-48ac-c35b-21a5971184e5"
      },
      "source": [
        "# Importing the installed 'idx2numpy' library\n",
        "import idx2numpy\n",
        "\n",
        "## Importing the dataset present in the drive into a numpy array\n",
        "# Importing the 112800 training images (28x28)\n",
        "TrainImages = idx2numpy.convert_from_file('/content/drive/MyDrive/PRML/Project/MNIST_data/gzip/emnist-balanced-train-images-idx3-ubyte') \n",
        "# Importing the 112800 training labels\n",
        "TrainLabels = idx2numpy.convert_from_file('/content/drive/MyDrive/PRML/Project/MNIST_data/gzip/emnist-balanced-train-labels-idx1-ubyte')\n",
        "# Importing the 18800 testing images (28x28)\n",
        "TestImages = idx2numpy.convert_from_file('/content/drive/MyDrive/PRML/Project/MNIST_data/gzip/emnist-balanced-test-images-idx3-ubyte')\n",
        "# Importing the 18800 testing Labels\n",
        "TestLabels = idx2numpy.convert_from_file('/content/drive/MyDrive/PRML/Project/MNIST_data/gzip/emnist-balanced-test-labels-idx1-ubyte')\n",
        "\n",
        "# Printing the shapes for imported dataset\n",
        "print(\"Training images shape : \", TrainImages.shape)\n",
        "print(\"Training labels shape : \", TrainLabels.shape)\n",
        "print(\"Testing images shape  : \", TestImages.shape)\n",
        "print(\"Testing labels shape  : \", TestLabels.shape)"
      ],
      "execution_count": null,
      "outputs": [
        {
          "output_type": "stream",
          "text": [
            "Training images shape :  (112800, 28, 28)\n",
            "Training labels shape :  (112800,)\n",
            "Testing images shape  :  (18800, 28, 28)\n",
            "Testing labels shape  :  (18800,)\n"
          ],
          "name": "stdout"
        }
      ]
    },
    {
      "cell_type": "code",
      "metadata": {
        "id": "FHe0OCWo5Er4"
      },
      "source": [
        "#Flipping and rotating the images in Train/Test set as the images are not in proper orientation.\n",
        "TrainImages = TrainImages[:,::-1,:]\n",
        "TrainImages = TrainImages.swapaxes(-2,-1)[...,::-1]\n",
        "TestImages = TestImages[:,::-1,:]\n",
        "TestImages = TestImages.swapaxes(-2,-1)[...,::-1]"
      ],
      "execution_count": null,
      "outputs": []
    },
    {
      "cell_type": "code",
      "metadata": {
        "id": "KnabiJeqg7KF"
      },
      "source": [
        "#Function to convert numeric labels (0 to 46) to readable labels (0-9, A-Z, a,b,d,e,f,g,h,n,q,r,t):\n",
        "def ReadableLabels(arr):\n",
        "  NumtoChar = {} # Initiating blank python dictionary for mapping from numeric labels to readable labels.\n",
        "  # Updating the dictionary with the required mappings.\n",
        "  for i in range(10):\n",
        "    NumtoChar.update({i:str(i)})\n",
        "  for i in range(10,36):\n",
        "    NumtoChar.update({i:chr(55+i)})\n",
        "  NumtoChar.update({36:'a'})  \n",
        "  NumtoChar.update({37:'b'})  \n",
        "  NumtoChar.update({38:'d'})  \n",
        "  NumtoChar.update({39:'e'})  \n",
        "  NumtoChar.update({40:'f'})  \n",
        "  NumtoChar.update({41:'g'})  \n",
        "  NumtoChar.update({42:'h'})  \n",
        "  NumtoChar.update({43:'n'})  \n",
        "  NumtoChar.update({44:'q'})  \n",
        "  NumtoChar.update({45:'r'})  \n",
        "  NumtoChar.update({46:'t'})  \n",
        "  return np.vectorize(NumtoChar.get)(arr)"
      ],
      "execution_count": null,
      "outputs": []
    },
    {
      "cell_type": "code",
      "metadata": {
        "colab": {
          "base_uri": "https://localhost:8080/",
          "height": 209
        },
        "id": "ZH2wuJaoAjcS",
        "outputId": "c491cf7e-9f5c-46bd-a878-3e3cad3e8a5c"
      },
      "source": [
        "# Displaying 4 random images from Training Set:\n",
        "i = randint(0,TrainImages.shape[0])\n",
        "plt.figure(figsize=(12,5))\n",
        "for j in range(4):\n",
        "  i = randint(0,TrainImages.shape[0])\n",
        "  plt.subplot(1,4,j+1)\n",
        "  plt.imshow(TrainImages[i])\n",
        "  plt.title(\"True Label : \"+ str(ReadableLabels(TrainLabels[i])))\n",
        "plt.show()"
      ],
      "execution_count": null,
      "outputs": [
        {
          "output_type": "display_data",
          "data": {
            "image/png": "[encoded data removed]",
            "text/plain": [
              "<Figure size 864x360 with 4 Axes>"
            ]
          },
          "metadata": {
            "tags": [],
            "needs_background": "light"
          }
        }
      ]
    },
    {
      "cell_type": "code",
      "metadata": {
        "colab": {
          "base_uri": "https://localhost:8080/",
          "height": 209
        },
        "id": "KVcy5K22eaj8",
        "outputId": "624ea3ff-27cc-41bd-b010-796b110157fb"
      },
      "source": [
        "# Displaying 4 random images from Testing Set:\n",
        "i = randint(0,TestImages.shape[0])\n",
        "plt.figure(figsize=(12,5))\n",
        "for j in range(4):\n",
        "  i = randint(0,TestImages.shape[0])\n",
        "  plt.subplot(1,4,j+1)\n",
        "  plt.imshow(TestImages[i])\n",
        "  plt.title(\"True Label : \"+ str(ReadableLabels(TestLabels[i])))\n",
        "plt.show()"
      ],
      "execution_count": null,
      "outputs": [
        {
          "output_type": "display_data",
          "data": {
            "image/png": "[encoded data removed]",
            "text/plain": [
              "<Figure size 864x360 with 4 Axes>"
            ]
          },
          "metadata": {
            "tags": [],
            "needs_background": "light"
          }
        }
      ]
    },
    {
      "cell_type": "code",
      "metadata": {
        "colab": {
          "base_uri": "https://localhost:8080/"
        },
        "id": "Lyzodn40Afiw",
        "outputId": "4334557f-2cf7-4348-d406-b21d2aa07264"
      },
      "source": [
        "#Flattening the 28x28 Train/Test Images to get 784 dimensional vector:\n",
        "TrainImages=np.ravel(TrainImages).reshape(112800,-1)\n",
        "TestImages=np.ravel(TestImages).reshape(18800,-1)\n",
        "\n",
        "# Printing the shape after flattening the train/test images\n",
        "print(TrainImages.shape)\n",
        "print(TrainImages.shape)"
      ],
      "execution_count": null,
      "outputs": [
        {
          "output_type": "stream",
          "text": [
            "(112800, 784)\n",
            "(112800, 784)\n"
          ],
          "name": "stdout"
        }
      ]
    },
    {
      "cell_type": "code",
      "metadata": {
        "colab": {
          "base_uri": "https://localhost:8080/"
        },
        "id": "IQwpXxmbFGIU",
        "outputId": "c3a94a7f-3484-4cad-905d-5886de0718ce"
      },
      "source": [
        "# Converting the numeric train labels to one hot encoding before training the Network.\n",
        "encoder = LabelEncoder()\n",
        "encoder.fit(TrainLabels)\n",
        "encoded_Y = encoder.transform(TrainLabels)\n",
        "y_onehot = np_utils.to_categorical(encoded_Y)\n",
        "\n",
        "# Printing the numeric train labels and one hot encoded labels along with their shapes : \n",
        "print(\"Numeric train labels (0-46) : \", TrainLabels)\n",
        "print(\"\\nShape of numeric train labels : \", TrainLabels.shape)\n",
        "print(\"\\nOne hot encoded train labels : \\n\", y_onehot)\n",
        "print(\"\\nShape of one hot encoded train labels : \", y_onehot.shape)"
      ],
      "execution_count": null,
      "outputs": [
        {
          "output_type": "stream",
          "text": [
            "Numeric train labels (0-46) :  [45 36 43 ... 23 31  8]\n",
            "\n",
            "Shape of numeric train labels :  (112800,)\n",
            "\n",
            "One hot encoded train labels : \n",
            " [[0. 0. 0. ... 0. 1. 0.]\n",
            " [0. 0. 0. ... 0. 0. 0.]\n",
            " [0. 0. 0. ... 0. 0. 0.]\n",
            " ...\n",
            " [0. 0. 0. ... 0. 0. 0.]\n",
            " [0. 0. 0. ... 0. 0. 0.]\n",
            " [0. 0. 0. ... 0. 0. 0.]]\n",
            "\n",
            "Shape of one hot encoded train labels :  (112800, 47)\n"
          ],
          "name": "stdout"
        }
      ]
    },
    {
      "cell_type": "code",
      "metadata": {
        "id": "AkrmZjYYKeTO"
      },
      "source": [
        "# Adjust the various network parameters here >>\n",
        "\n",
        "Input_dimen = 784                           # This is equal to flatten image size (28x28=784)\n",
        "Number_of_hidden_layers = 2                 # This parameter should be atleast 1\n",
        "Hidden_layer_neurons =  1000                # Defines the number of hidden neurons in each of the hidden layers\n",
        "Hidden_activation_function = 'relu'         # Defines the activation function used in the hidden layers\n",
        "Output_layer_neurons = 47                   # Here, we want 47 output neurons to classify the input as one of the 47 characters (labels)\n",
        "Output_layer_activation = 'softmax'         # Defines the output activation function which is softmax for multiclass classification\n",
        "loss_function = 'categorical_crossentropy'  # Loss function for multiclass classifcation\n",
        "optimizer = 'adam'                          # Defines the optimizer\n",
        "Batch_size = 256                            # Defines the batch size to use during training\n",
        "Epochs = 60                                # The model will be trained for these number of epochs\n",
        "Validation_split = 0.33                     # fraction by which the set has to divided into training"
      ],
      "execution_count": null,
      "outputs": []
    },
    {
      "cell_type": "code",
      "metadata": {
        "id": "2m4DXwf_KvyW"
      },
      "source": [
        "# Function to create model by passing the required network parameters :\n",
        "\n",
        "def NN_Model(id,nhl,hln,haf,oln,ola,lf,opt):\n",
        "  model = Sequential()\n",
        "  model.add(Dense(hln, input_dim = id, activation=haf, name='i/p-layer'))\n",
        "  for i in range(nhl-1):\n",
        "    model.add(Dense(hln, activation=haf))\n",
        "  model.add(Dense(oln, activation=ola,name='o/p-layer'))\n",
        "  model.compile(loss = lf, optimizer=opt, metrics=['accuracy'])\n",
        "  return model"
      ],
      "execution_count": null,
      "outputs": []
    },
    {
      "cell_type": "code",
      "metadata": {
        "id": "eJz8gcxVGWj8",
        "colab": {
          "base_uri": "https://localhost:8080/"
        },
        "outputId": "1c1d2e95-fa70-4f1a-ce89-af24dc86db48"
      },
      "source": [
        "# Creating a model with the entered parameters\n",
        "Model = NN_Model(Input_dimen, Number_of_hidden_layers, Hidden_layer_neurons, Hidden_activation_function, Output_layer_neurons, Output_layer_activation, loss_function, optimizer)\n",
        "\n",
        "#Training the model using the entered parameters\n",
        "Details = Model.fit(TrainImages,y_onehot,validation_split= Validation_split, epochs=Epochs, batch_size=Batch_size)\n"
      ],
      "execution_count": null,
      "outputs": [
        {
          "output_type": "stream",
          "text": [
            "Epoch 1/60\n",
            "296/296 [==============================] - 9s 6ms/step - loss: 22.0127 - accuracy: 0.4236 - val_loss: 1.3830 - val_accuracy: 0.6444\n",
            "Epoch 2/60\n",
            "296/296 [==============================] - 1s 4ms/step - loss: 1.0682 - accuracy: 0.7069 - val_loss: 1.1042 - val_accuracy: 0.7051\n",
            "Epoch 3/60\n",
            "296/296 [==============================] - 1s 4ms/step - loss: 0.7607 - accuracy: 0.7719 - val_loss: 1.0350 - val_accuracy: 0.7306\n",
            "Epoch 4/60\n",
            "296/296 [==============================] - 1s 4ms/step - loss: 0.5945 - accuracy: 0.8102 - val_loss: 0.9720 - val_accuracy: 0.7461\n",
            "Epoch 5/60\n",
            "296/296 [==============================] - 1s 4ms/step - loss: 0.5132 - accuracy: 0.8328 - val_loss: 0.9471 - val_accuracy: 0.7589\n",
            "Epoch 6/60\n",
            "296/296 [==============================] - 1s 4ms/step - loss: 0.4711 - accuracy: 0.8449 - val_loss: 0.9469 - val_accuracy: 0.7557\n",
            "Epoch 7/60\n",
            "296/296 [==============================] - 1s 4ms/step - loss: 0.4282 - accuracy: 0.8558 - val_loss: 0.9768 - val_accuracy: 0.7588\n",
            "Epoch 8/60\n",
            "296/296 [==============================] - 1s 4ms/step - loss: 0.4214 - accuracy: 0.8588 - val_loss: 0.9538 - val_accuracy: 0.7672\n",
            "Epoch 9/60\n",
            "296/296 [==============================] - 1s 4ms/step - loss: 0.4146 - accuracy: 0.8601 - val_loss: 0.9788 - val_accuracy: 0.7640\n",
            "Epoch 10/60\n",
            "296/296 [==============================] - 1s 4ms/step - loss: 0.3922 - accuracy: 0.8668 - val_loss: 1.0167 - val_accuracy: 0.7654\n",
            "Epoch 11/60\n",
            "296/296 [==============================] - 2s 5ms/step - loss: 0.4046 - accuracy: 0.8654 - val_loss: 0.9775 - val_accuracy: 0.7764\n",
            "Epoch 12/60\n",
            "296/296 [==============================] - 1s 4ms/step - loss: 0.3849 - accuracy: 0.8687 - val_loss: 0.9913 - val_accuracy: 0.7631\n",
            "Epoch 13/60\n",
            "296/296 [==============================] - 1s 4ms/step - loss: 0.3772 - accuracy: 0.8706 - val_loss: 1.0292 - val_accuracy: 0.7828\n",
            "Epoch 14/60\n",
            "296/296 [==============================] - 1s 4ms/step - loss: 0.3677 - accuracy: 0.8739 - val_loss: 0.9788 - val_accuracy: 0.7755\n",
            "Epoch 15/60\n",
            "296/296 [==============================] - 1s 4ms/step - loss: 0.3903 - accuracy: 0.8706 - val_loss: 1.0144 - val_accuracy: 0.7802\n",
            "Epoch 16/60\n",
            "296/296 [==============================] - 1s 4ms/step - loss: 0.3736 - accuracy: 0.8754 - val_loss: 1.0632 - val_accuracy: 0.7769\n",
            "Epoch 17/60\n",
            "296/296 [==============================] - 1s 4ms/step - loss: 0.3877 - accuracy: 0.8730 - val_loss: 1.0428 - val_accuracy: 0.7744\n",
            "Epoch 18/60\n",
            "296/296 [==============================] - 1s 4ms/step - loss: 0.3677 - accuracy: 0.8773 - val_loss: 1.1081 - val_accuracy: 0.7819\n",
            "Epoch 19/60\n",
            "296/296 [==============================] - 1s 4ms/step - loss: 0.3717 - accuracy: 0.8781 - val_loss: 1.1211 - val_accuracy: 0.7868\n",
            "Epoch 20/60\n",
            "296/296 [==============================] - 2s 5ms/step - loss: 0.3678 - accuracy: 0.8775 - val_loss: 1.1093 - val_accuracy: 0.7853\n",
            "Epoch 21/60\n",
            "296/296 [==============================] - 1s 4ms/step - loss: 0.3929 - accuracy: 0.8749 - val_loss: 1.1852 - val_accuracy: 0.7822\n",
            "Epoch 22/60\n",
            "296/296 [==============================] - 1s 4ms/step - loss: 0.3724 - accuracy: 0.8790 - val_loss: 1.2311 - val_accuracy: 0.7794\n",
            "Epoch 23/60\n",
            "296/296 [==============================] - 1s 4ms/step - loss: 0.3937 - accuracy: 0.8766 - val_loss: 1.1253 - val_accuracy: 0.7824\n",
            "Epoch 24/60\n",
            "296/296 [==============================] - 1s 4ms/step - loss: 0.3413 - accuracy: 0.8881 - val_loss: 1.2223 - val_accuracy: 0.7839\n",
            "Epoch 25/60\n",
            "296/296 [==============================] - 1s 4ms/step - loss: 0.3546 - accuracy: 0.8849 - val_loss: 1.2376 - val_accuracy: 0.7777\n",
            "Epoch 26/60\n",
            "296/296 [==============================] - 1s 4ms/step - loss: 0.3765 - accuracy: 0.8823 - val_loss: 1.2661 - val_accuracy: 0.7871\n",
            "Epoch 27/60\n",
            "296/296 [==============================] - 2s 5ms/step - loss: 0.3476 - accuracy: 0.8882 - val_loss: 1.2954 - val_accuracy: 0.7882\n",
            "Epoch 28/60\n",
            "296/296 [==============================] - 1s 4ms/step - loss: 0.3552 - accuracy: 0.8880 - val_loss: 1.3915 - val_accuracy: 0.7901\n",
            "Epoch 29/60\n",
            "296/296 [==============================] - 1s 4ms/step - loss: 0.3463 - accuracy: 0.8926 - val_loss: 1.3094 - val_accuracy: 0.7871\n",
            "Epoch 30/60\n",
            "296/296 [==============================] - 1s 4ms/step - loss: 0.3565 - accuracy: 0.8894 - val_loss: 1.4392 - val_accuracy: 0.7833\n",
            "Epoch 31/60\n",
            "296/296 [==============================] - 1s 4ms/step - loss: 0.3621 - accuracy: 0.8914 - val_loss: 1.5153 - val_accuracy: 0.7897\n",
            "Epoch 32/60\n",
            "296/296 [==============================] - 1s 4ms/step - loss: 0.3679 - accuracy: 0.8912 - val_loss: 1.5950 - val_accuracy: 0.7885\n",
            "Epoch 33/60\n",
            "296/296 [==============================] - 1s 4ms/step - loss: 0.3481 - accuracy: 0.8927 - val_loss: 1.5340 - val_accuracy: 0.7878\n",
            "Epoch 34/60\n",
            "296/296 [==============================] - 1s 4ms/step - loss: 0.3459 - accuracy: 0.8959 - val_loss: 1.5668 - val_accuracy: 0.7854\n",
            "Epoch 35/60\n",
            "296/296 [==============================] - 1s 4ms/step - loss: 0.3397 - accuracy: 0.8967 - val_loss: 1.5815 - val_accuracy: 0.7911\n",
            "Epoch 36/60\n",
            "296/296 [==============================] - 1s 4ms/step - loss: 0.3179 - accuracy: 0.9021 - val_loss: 1.6978 - val_accuracy: 0.7955\n",
            "Epoch 37/60\n",
            "296/296 [==============================] - 1s 4ms/step - loss: 0.3123 - accuracy: 0.9053 - val_loss: 1.6526 - val_accuracy: 0.7890\n",
            "Epoch 38/60\n",
            "296/296 [==============================] - 1s 4ms/step - loss: 0.3334 - accuracy: 0.8995 - val_loss: 1.6661 - val_accuracy: 0.7837\n",
            "Epoch 39/60\n",
            "296/296 [==============================] - 1s 4ms/step - loss: 0.3286 - accuracy: 0.9002 - val_loss: 1.7244 - val_accuracy: 0.7882\n",
            "Epoch 40/60\n",
            "296/296 [==============================] - 1s 4ms/step - loss: 0.3313 - accuracy: 0.9015 - val_loss: 1.6501 - val_accuracy: 0.7833\n",
            "Epoch 41/60\n",
            "296/296 [==============================] - 1s 4ms/step - loss: 0.3408 - accuracy: 0.8997 - val_loss: 1.8803 - val_accuracy: 0.7923\n",
            "Epoch 42/60\n",
            "296/296 [==============================] - 1s 4ms/step - loss: 0.3436 - accuracy: 0.9020 - val_loss: 1.8935 - val_accuracy: 0.7929\n",
            "Epoch 43/60\n",
            "296/296 [==============================] - 1s 4ms/step - loss: 0.3097 - accuracy: 0.9093 - val_loss: 1.9098 - val_accuracy: 0.7901\n",
            "Epoch 44/60\n",
            "296/296 [==============================] - 1s 4ms/step - loss: 0.2802 - accuracy: 0.9143 - val_loss: 1.8772 - val_accuracy: 0.7907\n",
            "Epoch 45/60\n",
            "296/296 [==============================] - 1s 4ms/step - loss: 0.3069 - accuracy: 0.9109 - val_loss: 1.8651 - val_accuracy: 0.7934\n",
            "Epoch 46/60\n",
            "296/296 [==============================] - 1s 4ms/step - loss: 0.3139 - accuracy: 0.9096 - val_loss: 2.1165 - val_accuracy: 0.7948\n",
            "Epoch 47/60\n",
            "296/296 [==============================] - 1s 4ms/step - loss: 0.3295 - accuracy: 0.9077 - val_loss: 1.9576 - val_accuracy: 0.7893\n",
            "Epoch 48/60\n",
            "296/296 [==============================] - 1s 4ms/step - loss: 0.3185 - accuracy: 0.9107 - val_loss: 2.0849 - val_accuracy: 0.7896\n",
            "Epoch 49/60\n",
            "296/296 [==============================] - 1s 4ms/step - loss: 0.3124 - accuracy: 0.9105 - val_loss: 1.9683 - val_accuracy: 0.7887\n",
            "Epoch 50/60\n",
            "296/296 [==============================] - 1s 4ms/step - loss: 0.2965 - accuracy: 0.9110 - val_loss: 2.3926 - val_accuracy: 0.7961\n",
            "Epoch 51/60\n",
            "296/296 [==============================] - 1s 4ms/step - loss: 0.3344 - accuracy: 0.9096 - val_loss: 2.2290 - val_accuracy: 0.7972\n",
            "Epoch 52/60\n",
            "296/296 [==============================] - 1s 4ms/step - loss: 0.3357 - accuracy: 0.9076 - val_loss: 2.3118 - val_accuracy: 0.7945\n",
            "Epoch 53/60\n",
            "296/296 [==============================] - 1s 4ms/step - loss: 0.3104 - accuracy: 0.9126 - val_loss: 2.4169 - val_accuracy: 0.7976\n",
            "Epoch 54/60\n",
            "296/296 [==============================] - 1s 4ms/step - loss: 0.3064 - accuracy: 0.9173 - val_loss: 2.5565 - val_accuracy: 0.8001\n",
            "Epoch 55/60\n",
            "296/296 [==============================] - 1s 4ms/step - loss: 0.3068 - accuracy: 0.9159 - val_loss: 2.3760 - val_accuracy: 0.7940\n",
            "Epoch 56/60\n",
            "296/296 [==============================] - 1s 4ms/step - loss: 0.3344 - accuracy: 0.9130 - val_loss: 2.5288 - val_accuracy: 0.8019\n",
            "Epoch 57/60\n",
            "296/296 [==============================] - 1s 4ms/step - loss: 0.2951 - accuracy: 0.9155 - val_loss: 2.6944 - val_accuracy: 0.7919\n",
            "Epoch 58/60\n",
            "296/296 [==============================] - 1s 4ms/step - loss: 0.3096 - accuracy: 0.9151 - val_loss: 2.9002 - val_accuracy: 0.7954\n",
            "Epoch 59/60\n",
            "296/296 [==============================] - 1s 4ms/step - loss: 0.3102 - accuracy: 0.9176 - val_loss: 2.7699 - val_accuracy: 0.7998\n",
            "Epoch 60/60\n",
            "296/296 [==============================] - 1s 4ms/step - loss: 0.3233 - accuracy: 0.9175 - val_loss: 2.5085 - val_accuracy: 0.7932\n"
          ],
          "name": "stdout"
        }
      ]
    },
    {
      "cell_type": "code",
      "metadata": {
        "id": "SVGfOIX9a4RN"
      },
      "source": [
        "# Enter the directory where you want the training results to be stored >>\n",
        "files_dir = '/content/'\n",
        "\n",
        "# Storing the history of training in a CSV file in the directory\n",
        "hist_df = pd.DataFrame(Details.history)\n",
        "hist_file_title = files_dir+'history_'+str(Epochs)+'_'+str(Batch_size)+'_'+str(Number_of_hidden_layers)+'_'+str(Hidden_layer_neurons)+'.csv'\n",
        "with open(hist_file_title, mode='w') as f:\n",
        "    hist_df.to_csv(f)"
      ],
      "execution_count": null,
      "outputs": []
    },
    {
      "cell_type": "code",
      "metadata": {
        "colab": {
          "base_uri": "https://localhost:8080/",
          "height": 350
        },
        "id": "ZJsC9_KFa8rN",
        "outputId": "15ff0257-0d7d-4443-f1fc-d65a1055e721"
      },
      "source": [
        "# Plotting the Accuracy V/S Epoch graph of training\n",
        "plt.figure(figsize=(5,5))\n",
        "plt.plot(Details.history['accuracy'])\n",
        "plt.plot(Details.history['val_accuracy'])\n",
        "title = 'Model Accuracy'+' (Epochs = '+str(Epochs)+')'+' (BatchSize = '+str(Batch_size)+') ('+str(Number_of_hidden_layers)+' hidden layers with '+str(Hidden_layer_neurons)+' neurons)'\n",
        "plt.title(title)\n",
        "plt.ylabel('Accuracy')\n",
        "plt.xlabel('Epochs')\n",
        "plt.grid()\n",
        "plt.legend(['Train', 'Validation'], loc='upper left')\n",
        "file_name = files_dir+'Accuracy_'+str(Epochs)+'_'+str(Batch_size)+'_'+str(Number_of_hidden_layers)+'_'+str(Hidden_layer_neurons)\n",
        "plt.savefig(file_name)\n",
        "plt.show()"
      ],
      "execution_count": null,
      "outputs": [
        {
          "output_type": "display_data",
          "data": {
            "image/png": "[encoded data removed]",
            "text/plain": [
              "<Figure size 360x360 with 1 Axes>"
            ]
          },
          "metadata": {
            "tags": [],
            "needs_background": "light"
          }
        }
      ]
    },
    {
      "cell_type": "code",
      "metadata": {
        "colab": {
          "base_uri": "https://localhost:8080/"
        },
        "id": "IxW3yz-pbQYg",
        "outputId": "a25abab5-13d3-4ed0-d7d8-dd4de0c4c356"
      },
      "source": [
        "# Predicting the Test image labels and noting the testing accuracy\n",
        "y_pred = np.argmax(Model.predict(TestImages), axis=-1)\n",
        "test_accuracy = (18800 - np.count_nonzero(TestLabels-y_pred))*100/18800\n",
        "print(\"Testing Accuracy : \",test_accuracy,'%')"
      ],
      "execution_count": null,
      "outputs": [
        {
          "output_type": "stream",
          "text": [
            "Testing Accuracy :  79.43085106382979 %\n"
          ],
          "name": "stdout"
        }
      ]
    },
    {
      "cell_type": "code",
      "metadata": {
        "colab": {
          "base_uri": "https://localhost:8080/"
        },
        "id": "X3QK2qiopKAk",
        "outputId": "6a6f5ff9-5712-4cfa-c45b-609c9d1827a4"
      },
      "source": [
        "#5(d) Creating a confusion matrix to understand the most confused classes (characters).\n",
        "\n",
        "ConfusionMatrix = np.zeros([47,47])\n",
        "TrueLabels=TestLabels.reshape(-1,1)\n",
        "PredictedLabels = y_pred.reshape(-1,1)\n",
        "AllLabels=np.hstack((TrueLabels,PredictedLabels))\n",
        "for i in range(TrueLabels.shape[0]):\n",
        "  ConfusionMatrix[int(AllLabels[i,0])][int(AllLabels[i,1])]+=1\n",
        "\n",
        "print(\"\\nConfusion Matrix (check the saved CSV file for details): \\n\")\n",
        "print(ConfusionMatrix)\n",
        "conf_mat = pd.DataFrame(ConfusionMatrix)\n",
        "conf_mat_file = files_dir+'ConfusionMatrix_'+str(Epochs)+'_'+str(Batch_size)+'_'+str(Number_of_hidden_layers)+'_'+str(Hidden_layer_neurons)+'.csv'\n",
        "with open(conf_mat_file, mode='w') as f:\n",
        "    conf_mat.to_csv(f)\n"
      ],
      "execution_count": null,
      "outputs": [
        {
          "output_type": "stream",
          "text": [
            "\n",
            "Confusion Matrix (check the saved CSV file for details): \n",
            "\n",
            "[[292.   0.   0. ...   1.   1.   0.]\n",
            " [  0. 268.   1. ...   1.   0.   2.]\n",
            " [  0.   0. 333. ...   3.   0.   1.]\n",
            " ...\n",
            " [  1.   0.   0. ... 214.   0.   0.]\n",
            " [  0.   1.   0. ...   1. 348.   3.]\n",
            " [  0.   1.   0. ...   2.   4. 332.]]\n"
          ],
          "name": "stdout"
        }
      ]
    },
    {
      "cell_type": "code",
      "metadata": {
        "colab": {
          "base_uri": "https://localhost:8080/",
          "height": 333
        },
        "id": "0vn6T_jYNE3b",
        "outputId": "997246d3-91c6-470f-cac4-bab71fb4a84f"
      },
      "source": [
        "# Classifying the test character entered by the user:\n",
        "True_label=int(input(\"Enter the true label of the test image you want to classify (between 0 to 46) :\"))\n",
        "\n",
        "# Randomly selecting a Test image having true label = (label entered by user) from the set of Test images\n",
        "temp_array = np.hstack((TrainImages,TrainLabels.reshape(112800,1))) \n",
        "np.random.shuffle(temp_array)\n",
        "for Image in temp_array:\n",
        "  if Image[784]==True_label:\n",
        "    Test_Image=Image\n",
        "    break\n",
        "  else:\n",
        "    continue\n",
        "\n",
        "#Plotting the selected test image:\n",
        "Imagetitle=\"True label for test image is \"+ str(ReadableLabels(True_label))\n",
        "plt.imshow(Test_Image[:-1].reshape(28,28))\n",
        "plt.title(Imagetitle)\n",
        "plt.show()\n",
        "\n",
        "#Classifying the selected test image\n",
        "Test_Image=Test_Image[0:784].reshape(-1,784)\n",
        "Test_Image = np.asarray(Test_Image)\n",
        "y_pred = np.argmax(Model.predict(Test_Image), axis=-1)\n",
        "print(\"\\nLabel predicted by neural network : \",ReadableLabels(y_pred))"
      ],
      "execution_count": null,
      "outputs": [
        {
          "output_type": "stream",
          "text": [
            "Enter the true label of the test image you want to classify (between 0 to 46) :27\n"
          ],
          "name": "stdout"
        },
        {
          "output_type": "display_data",
          "data": {
            "image/png": "[encoded data removed]",
            "text/plain": [
              "<Figure size 432x288 with 1 Axes>"
            ]
          },
          "metadata": {
            "tags": [],
            "needs_background": "light"
          }
        },
        {
          "output_type": "stream",
          "text": [
            "\n",
            "Label predicted by neural network :  ['R']\n"
          ],
          "name": "stdout"
        }
      ]
    }
  ]
}