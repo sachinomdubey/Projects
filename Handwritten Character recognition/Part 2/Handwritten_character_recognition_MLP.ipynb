{
  "nbformat": 4,
  "nbformat_minor": 0,
  "metadata": {
    "accelerator": "GPU",
    "colab": {
      "name": "Handwritten_character_recognition_MLP.ipynb",
      "provenance": [],
      "collapsed_sections": []
    },
    "kernelspec": {
      "display_name": "Python 3",
      "name": "python3"
    },
    "language_info": {
      "name": "python"
    }
  },
  "cells": [
    {
      "cell_type": "code",
      "metadata": {
        "id": "cSNKYXOVASJ0"
      },
      "source": [
        "######################## PRML PROJECT ##########################################\n",
        "# Title   : Handwritten Character Recognition using NNs (Part-1)\n",
        "# Team    : Anuradha Uggi (EE21RESCH01008), Sachinkumar Dubey (EE20MTECH11009)\n",
        "# Course  : PRML\n",
        "#\n",
        "# Details : In this project, Permorfance of MLPs and CNNs are analysed and\n",
        "#           compared in the application of recognition of handwritten characters.\n",
        "#\n",
        "#           This is the part-1 program which uses MLPs and analyses its \n",
        "#           performance and effect of varying various parameters of the network.\n",
        "#           For CNN implementation, please refer part-2 program.\n",
        "################################################################################"
      ],
      "execution_count": 59,
      "outputs": []
    },
    {
      "cell_type": "code",
      "metadata": {
        "id": "V9fgXjArC6BH"
      },
      "source": [
        "# Importing the required libraries:\n",
        "\n",
        "import numpy as np\n",
        "from random import randint\n",
        "from keras.models import Sequential\n",
        "from keras.layers import Dense\n",
        "#from keras.wrappers.scikit_learn import KerasClassifier\n",
        "#from keras.utils import np_utils\n",
        "#from sklearn.model_selection import cross_val_score\n",
        "#from sklearn.model_selection import KFold\n",
        "from sklearn.preprocessing import LabelEncoder\n",
        "#from sklearn.pipeline import Pipeline\n",
        "#from keras.callbacks import CSVLogger\n",
        "import pandas as pds\n",
        "import cv2 as cv\n",
        "#from keras.optimizers import SGD\n",
        "import matplotlib.pyplot as plt\n",
        "from numpy import linalg as LA"
      ],
      "execution_count": 61,
      "outputs": []
    },
    {
      "cell_type": "code",
      "metadata": {
        "colab": {
          "base_uri": "https://localhost:8080/"
        },
        "id": "0CxEBxcSEnBh",
        "outputId": "8ebec4bb-70a0-4e55-dd08-ebac6a5fba40"
      },
      "source": [
        "# The dataset is uploaded to the following path in the personal google drive (/content/drive/MyDrive/PRML/Project/MNIST_data/gzip/)\n",
        "# Thus, Mounting the google drive to access the same for training of the network\n",
        "\n",
        "from google.colab import drive\n",
        "drive.mount('/content/drive')"
      ],
      "execution_count": 62,
      "outputs": [
        {
          "output_type": "stream",
          "text": [
            "Drive already mounted at /content/drive; to attempt to forcibly remount, call drive.mount(\"/content/drive\", force_remount=True).\n"
          ],
          "name": "stdout"
        }
      ]
    },
    {
      "cell_type": "code",
      "metadata": {
        "colab": {
          "base_uri": "https://localhost:8080/"
        },
        "id": "tlw9CoNHSmKJ",
        "outputId": "3012c40f-15a2-4abc-c4f8-f53a96be0184"
      },
      "source": [
        "# Installing the 'idx2numpy' Library which is required to read the dataset present in an idx file into a numpy array\n",
        "% pip install idx2numpy"
      ],
      "execution_count": 63,
      "outputs": [
        {
          "output_type": "stream",
          "text": [
            "Requirement already satisfied: idx2numpy in /usr/local/lib/python3.7/dist-packages (1.2.3)\n",
            "Requirement already satisfied: six in /usr/local/lib/python3.7/dist-packages (from idx2numpy) (1.15.0)\n",
            "Requirement already satisfied: numpy in /usr/local/lib/python3.7/dist-packages (from idx2numpy) (1.19.5)\n"
          ],
          "name": "stdout"
        }
      ]
    },
    {
      "cell_type": "code",
      "metadata": {
        "colab": {
          "base_uri": "https://localhost:8080/"
        },
        "id": "9ViEg1D3Sjca",
        "outputId": "ff2be549-dd78-452d-caf1-514a77870288"
      },
      "source": [
        "# Importing the installed 'idx2numpy' library\n",
        "import idx2numpy\n",
        "\n",
        "## Importing the dataset present in the drive into a numpy array\n",
        "# Importing the 112800 training images (28x28)\n",
        "TrainImages = idx2numpy.convert_from_file('/content/drive/MyDrive/PRML/Project/MNIST_data/gzip/emnist-balanced-train-images-idx3-ubyte') \n",
        "# Importing the 112800 training labels\n",
        "TrainLabels = idx2numpy.convert_from_file('/content/drive/MyDrive/PRML/Project/MNIST_data/gzip/emnist-balanced-train-labels-idx1-ubyte')\n",
        "# Importing the 18800 testing images (28x28)\n",
        "TestImages = idx2numpy.convert_from_file('/content/drive/MyDrive/PRML/Project/MNIST_data/gzip/emnist-balanced-test-images-idx3-ubyte')\n",
        "# Importing the 18800 testing Labels\n",
        "TestLabels = idx2numpy.convert_from_file('/content/drive/MyDrive/PRML/Project/MNIST_data/gzip/emnist-balanced-test-labels-idx1-ubyte')\n",
        "\n",
        "# Printing the shapes for imported dataset\n",
        "print(\"Training images shape : \", TrainImages.shape)\n",
        "print(\"Training labels shape : \", TrainLabels.shape)\n",
        "print(\"Testing images shape  : \", TestImages.shape)\n",
        "print(\"Testing labels shape  : \", TestLabels.shape)"
      ],
      "execution_count": 64,
      "outputs": [
        {
          "output_type": "stream",
          "text": [
            "Training images shape :  (112800, 28, 28)\n",
            "Training labels shape :  (112800,)\n",
            "Testing images shape  :  (18800, 28, 28)\n",
            "Testing labels shape  :  (18800,)\n"
          ],
          "name": "stdout"
        }
      ]
    },
    {
      "cell_type": "code",
      "metadata": {
        "id": "FHe0OCWo5Er4"
      },
      "source": [
        "#Flipping and rotating the images in Train/Test set as the images are not in proper orientation.\n",
        "TrainImages = TrainImages[:,::-1,:]\n",
        "TrainImages = TrainImages.swapaxes(-2,-1)[...,::-1]\n",
        "TestImages = TestImages[:,::-1,:]\n",
        "TestImages = TestImages.swapaxes(-2,-1)[...,::-1]"
      ],
      "execution_count": 65,
      "outputs": []
    },
    {
      "cell_type": "code",
      "metadata": {
        "id": "KnabiJeqg7KF"
      },
      "source": [
        "#Function to convert numeric labels (0 to 46) to readable labels (0-9, A-Z, a,b,d,e,f,g,h,n,q,r,t):\n",
        "def ReadableLabels(arr):\n",
        "  NumtoChar = {} # Initiating blank python dictionary for mapping from numeric labels to readable labels.\n",
        "  # Updating the dictionary with the required mappings.\n",
        "  for i in range(10):\n",
        "    NumtoChar.update({i:str(i)})\n",
        "  for i in range(10,36):\n",
        "    NumtoChar.update({i:chr(55+i)})\n",
        "  NumtoChar.update({36:'a'})  \n",
        "  NumtoChar.update({37:'b'})  \n",
        "  NumtoChar.update({38:'d'})  \n",
        "  NumtoChar.update({39:'e'})  \n",
        "  NumtoChar.update({40:'f'})  \n",
        "  NumtoChar.update({41:'g'})  \n",
        "  NumtoChar.update({42:'h'})  \n",
        "  NumtoChar.update({43:'n'})  \n",
        "  NumtoChar.update({44:'q'})  \n",
        "  NumtoChar.update({45:'r'})  \n",
        "  NumtoChar.update({46:'t'})  \n",
        "  return np.vectorize(NumtoChar.get)(arr)"
      ],
      "execution_count": 66,
      "outputs": []
    },
    {
      "cell_type": "code",
      "metadata": {
        "colab": {
          "base_uri": "https://localhost:8080/",
          "height": 209
        },
        "id": "ZH2wuJaoAjcS",
        "outputId": "822d4df2-876a-4086-d6f1-89f94b09f77c"
      },
      "source": [
        "# Displaying 4 random images from Training Set:\n",
        "i = randint(0,TrainImages.shape[0])\n",
        "plt.figure(figsize=(12,5))\n",
        "for j in range(4):\n",
        "  i = randint(0,TrainImages.shape[0])\n",
        "  plt.subplot(1,4,j+1)\n",
        "  plt.imshow(TrainImages[i])\n",
        "  plt.title(\"True Label : \"+ str(ReadableLabels(TrainLabels[i])))\n",
        "plt.show()"
      ],
      "execution_count": 67,
      "outputs": [
        {
          "output_type": "display_data",
          "data": {
            "image/png": "[encoded data removed]",
            "text/plain": [
              "<Figure size 864x360 with 4 Axes>"
            ]
          },
          "metadata": {
            "tags": [],
            "needs_background": "light"
          }
        }
      ]
    },
    {
      "cell_type": "code",
      "metadata": {
        "colab": {
          "base_uri": "https://localhost:8080/",
          "height": 209
        },
        "id": "KVcy5K22eaj8",
        "outputId": "2e9f4ac6-89bc-4b4e-e189-9391b575a0b3"
      },
      "source": [
        "# Displaying 4 random images from Testing Set:\n",
        "i = randint(0,TestImages.shape[0])\n",
        "plt.figure(figsize=(12,5))\n",
        "for j in range(4):\n",
        "  i = randint(0,TestImages.shape[0])\n",
        "  plt.subplot(1,4,j+1)\n",
        "  plt.imshow(TestImages[i])\n",
        "  plt.title(\"True Label : \"+ str(ReadableLabels(TestLabels[i])))\n",
        "plt.show()"
      ],
      "execution_count": 68,
      "outputs": [
        {
          "output_type": "display_data",
          "data": {
            "image/png": "[encoded data removed]",
            "text/plain": [
              "<Figure size 864x360 with 4 Axes>"
            ]
          },
          "metadata": {
            "tags": [],
            "needs_background": "light"
          }
        }
      ]
    },
    {
      "cell_type": "code",
      "metadata": {
        "colab": {
          "base_uri": "https://localhost:8080/"
        },
        "id": "Lyzodn40Afiw",
        "outputId": "31423a00-2cef-4ffc-eb75-7fd2731dd97d"
      },
      "source": [
        "#Flattening the 28x28 Train/Test Images to get 784 dimensional vector:\n",
        "TrainImages=np.ravel(TrainImages).reshape(112800,-1)\n",
        "TestImages=np.ravel(TestImages).reshape(18800,-1)\n",
        "\n",
        "# Printing the shape after flattening the train/test images\n",
        "print(TrainImages.shape)\n",
        "print(TrainImages.shape)"
      ],
      "execution_count": 69,
      "outputs": [
        {
          "output_type": "stream",
          "text": [
            "(112800, 784)\n",
            "(112800, 784)\n"
          ],
          "name": "stdout"
        }
      ]
    },
    {
      "cell_type": "code",
      "metadata": {
        "colab": {
          "base_uri": "https://localhost:8080/"
        },
        "id": "IQwpXxmbFGIU",
        "outputId": "16621dd7-4d7b-452a-e0ec-c467e461c45f"
      },
      "source": [
        "# Converting the numeric train labels to one hot encoding before training the Network.\n",
        "encoder = LabelEncoder()\n",
        "encoder.fit(TrainLabels)\n",
        "encoded_Y = encoder.transform(TrainLabels)\n",
        "y_onehot = np_utils.to_categorical(encoded_Y)\n",
        "\n",
        "# Printing the numeric train labels and one hot encoded labels along with their shapes : \n",
        "print(\"Numeric train labels (0-46) : \", TrainLabels)\n",
        "print(\"\\nShape of numeric train labels : \", TrainLabels.shape)\n",
        "print(\"\\nOne hot encoded train labels : \\n\", y_onehot)\n",
        "print(\"\\nShape of one hot encoded train labels : \", y_onehot.shape)"
      ],
      "execution_count": 70,
      "outputs": [
        {
          "output_type": "stream",
          "text": [
            "Numeric train labels (0-46) :  [45 36 43 ... 23 31  8]\n",
            "\n",
            "Shape of numeric train labels :  (112800,)\n",
            "\n",
            "One hot encoded train labels : \n",
            " [[0. 0. 0. ... 0. 1. 0.]\n",
            " [0. 0. 0. ... 0. 0. 0.]\n",
            " [0. 0. 0. ... 0. 0. 0.]\n",
            " ...\n",
            " [0. 0. 0. ... 0. 0. 0.]\n",
            " [0. 0. 0. ... 0. 0. 0.]\n",
            " [0. 0. 0. ... 0. 0. 0.]]\n",
            "\n",
            "Shape of one hot encoded train labels :  (112800, 47)\n"
          ],
          "name": "stdout"
        }
      ]
    },
    {
      "cell_type": "code",
      "metadata": {
        "id": "AkrmZjYYKeTO"
      },
      "source": [
        "# Adjust the various network parameters here >>\n",
        "\n",
        "Input_dimen = 784                           # This is equal to flatten image size (28x28=784)\n",
        "Number_of_hidden_layers = 1                 # This parameter should be atleast 1\n",
        "Hidden_layer_neurons =  1000                # Defines the number of hidden neurons in each of the hidden layers\n",
        "Hidden_activation_function = 'relu'         # Defines the activation function used in the hidden layers\n",
        "Output_layer_neurons = 47                   # Here, we want 47 output neurons to classify the input as one of the 47 characters (labels)\n",
        "Output_layer_activation = 'softmax'         # Defines the output activation function which is softmax for multiclass classification\n",
        "loss_function = 'categorical_crossentropy'  # Loss function for multiclass classifcation\n",
        "optimizer = 'adam'                          # Defines the optimizer\n",
        "Batch_size = 256                            # Defines the batch size to use during training\n",
        "Epochs = 100                                # The model will be trained for these number of epochs\n",
        "Validation_split = 0.33                     # fraction by which the set has to divided into training"
      ],
      "execution_count": 71,
      "outputs": []
    },
    {
      "cell_type": "code",
      "metadata": {
        "id": "2m4DXwf_KvyW"
      },
      "source": [
        "# Function to create model by passing the required network parameters :\n",
        "\n",
        "def NN_Model(id,nhl,hln,haf,oln,ola,lf,opt):\n",
        "  model = Sequential()\n",
        "  model.add(Dense(hln, input_dim = id, activation=haf, name='i/p-layer'))\n",
        "  for i in range(nhl-1):\n",
        "    model.add(Dense(hln, activation=haf))\n",
        "  model.add(Dense(oln, activation=ola,name='o/p-layer'))\n",
        "  model.compile(loss = lf, optimizer=opt, metrics=['accuracy'])\n",
        "  return model"
      ],
      "execution_count": 72,
      "outputs": []
    },
    {
      "cell_type": "code",
      "metadata": {
        "id": "eJz8gcxVGWj8",
        "colab": {
          "base_uri": "https://localhost:8080/"
        },
        "outputId": "34fd9aa3-a582-46d9-972e-99751a75a85d"
      },
      "source": [
        "# Creating a model with the entered parameters\n",
        "Model = NN_Model(Input_dimen, Number_of_hidden_layers, Hidden_layer_neurons, Hidden_activation_function, Output_layer_neurons, Output_layer_activation, loss_function, optimizer)\n",
        "\n",
        "#Training the model using the entered parameters\n",
        "Details = Model.fit(TrainImages,y_onehot,validation_split= Validation_split, epochs=Epochs, batch_size=Batch_size)\n"
      ],
      "execution_count": 73,
      "outputs": [
        {
          "output_type": "stream",
          "text": [
            "Epoch 1/100\n",
            "296/296 [==============================] - 2s 4ms/step - loss: 34.8380 - accuracy: 0.4445 - val_loss: 2.2308 - val_accuracy: 0.5602\n",
            "Epoch 2/100\n",
            "296/296 [==============================] - 1s 4ms/step - loss: 1.6814 - accuracy: 0.6221 - val_loss: 1.5414 - val_accuracy: 0.6516\n",
            "Epoch 3/100\n",
            "296/296 [==============================] - 1s 4ms/step - loss: 1.0842 - accuracy: 0.7127 - val_loss: 1.3324 - val_accuracy: 0.6900\n",
            "Epoch 4/100\n",
            "296/296 [==============================] - 1s 4ms/step - loss: 0.8551 - accuracy: 0.7537 - val_loss: 1.2119 - val_accuracy: 0.7127\n",
            "Epoch 5/100\n",
            "296/296 [==============================] - 1s 4ms/step - loss: 0.7360 - accuracy: 0.7787 - val_loss: 1.1587 - val_accuracy: 0.7211\n",
            "Epoch 6/100\n",
            "296/296 [==============================] - 1s 4ms/step - loss: 0.6699 - accuracy: 0.7952 - val_loss: 1.1330 - val_accuracy: 0.7385\n",
            "Epoch 7/100\n",
            "296/296 [==============================] - 1s 4ms/step - loss: 0.6251 - accuracy: 0.8055 - val_loss: 1.1408 - val_accuracy: 0.7444\n",
            "Epoch 8/100\n",
            "296/296 [==============================] - 1s 4ms/step - loss: 0.6026 - accuracy: 0.8084 - val_loss: 1.1432 - val_accuracy: 0.7460\n",
            "Epoch 9/100\n",
            "296/296 [==============================] - 1s 4ms/step - loss: 0.5891 - accuracy: 0.8158 - val_loss: 1.1421 - val_accuracy: 0.7461\n",
            "Epoch 10/100\n",
            "296/296 [==============================] - 1s 5ms/step - loss: 0.5940 - accuracy: 0.8146 - val_loss: 1.1688 - val_accuracy: 0.7425\n",
            "Epoch 11/100\n",
            "296/296 [==============================] - 1s 5ms/step - loss: 0.5857 - accuracy: 0.8180 - val_loss: 1.1720 - val_accuracy: 0.7450\n",
            "Epoch 12/100\n",
            "296/296 [==============================] - 1s 5ms/step - loss: 0.6209 - accuracy: 0.8083 - val_loss: 1.1923 - val_accuracy: 0.7379\n",
            "Epoch 13/100\n",
            "296/296 [==============================] - 1s 4ms/step - loss: 0.6028 - accuracy: 0.8169 - val_loss: 1.1767 - val_accuracy: 0.7492\n",
            "Epoch 14/100\n",
            "296/296 [==============================] - 1s 4ms/step - loss: 0.5732 - accuracy: 0.8235 - val_loss: 1.1643 - val_accuracy: 0.7520\n",
            "Epoch 15/100\n",
            "296/296 [==============================] - 1s 4ms/step - loss: 0.5941 - accuracy: 0.8177 - val_loss: 1.1650 - val_accuracy: 0.7525\n",
            "Epoch 16/100\n",
            "296/296 [==============================] - 1s 5ms/step - loss: 0.6160 - accuracy: 0.8157 - val_loss: 1.1793 - val_accuracy: 0.7585\n",
            "Epoch 17/100\n",
            "296/296 [==============================] - 1s 4ms/step - loss: 0.5882 - accuracy: 0.8207 - val_loss: 1.2208 - val_accuracy: 0.7480\n",
            "Epoch 18/100\n",
            "296/296 [==============================] - 1s 5ms/step - loss: 0.6172 - accuracy: 0.8183 - val_loss: 1.2212 - val_accuracy: 0.7570\n",
            "Epoch 19/100\n",
            "296/296 [==============================] - 1s 4ms/step - loss: 0.6061 - accuracy: 0.8189 - val_loss: 1.2747 - val_accuracy: 0.7471\n",
            "Epoch 20/100\n",
            "296/296 [==============================] - 1s 5ms/step - loss: 0.5955 - accuracy: 0.8196 - val_loss: 1.2161 - val_accuracy: 0.7496\n",
            "Epoch 21/100\n",
            "296/296 [==============================] - 1s 5ms/step - loss: 0.5809 - accuracy: 0.8255 - val_loss: 1.2587 - val_accuracy: 0.7557\n",
            "Epoch 22/100\n",
            "296/296 [==============================] - 2s 5ms/step - loss: 0.5885 - accuracy: 0.8244 - val_loss: 1.3142 - val_accuracy: 0.7496\n",
            "Epoch 23/100\n",
            "296/296 [==============================] - 1s 4ms/step - loss: 0.6047 - accuracy: 0.8207 - val_loss: 1.3722 - val_accuracy: 0.7520\n",
            "Epoch 24/100\n",
            "296/296 [==============================] - 2s 5ms/step - loss: 0.5951 - accuracy: 0.8249 - val_loss: 1.3080 - val_accuracy: 0.7544\n",
            "Epoch 25/100\n",
            "296/296 [==============================] - 1s 4ms/step - loss: 0.5700 - accuracy: 0.8293 - val_loss: 1.3364 - val_accuracy: 0.7638\n",
            "Epoch 26/100\n",
            "296/296 [==============================] - 1s 4ms/step - loss: 0.5599 - accuracy: 0.8313 - val_loss: 1.3656 - val_accuracy: 0.7554\n",
            "Epoch 27/100\n",
            "296/296 [==============================] - 1s 4ms/step - loss: 0.5469 - accuracy: 0.8360 - val_loss: 1.3737 - val_accuracy: 0.7598\n",
            "Epoch 28/100\n",
            "296/296 [==============================] - 1s 4ms/step - loss: 0.5620 - accuracy: 0.8340 - val_loss: 1.3913 - val_accuracy: 0.7554\n",
            "Epoch 29/100\n",
            "296/296 [==============================] - 1s 4ms/step - loss: 0.5357 - accuracy: 0.8364 - val_loss: 1.3873 - val_accuracy: 0.7628\n",
            "Epoch 30/100\n",
            "296/296 [==============================] - 1s 4ms/step - loss: 0.5390 - accuracy: 0.8378 - val_loss: 1.4264 - val_accuracy: 0.7558\n",
            "Epoch 31/100\n",
            "296/296 [==============================] - 1s 4ms/step - loss: 0.5493 - accuracy: 0.8357 - val_loss: 1.5240 - val_accuracy: 0.7534\n",
            "Epoch 32/100\n",
            "296/296 [==============================] - 1s 4ms/step - loss: 0.5426 - accuracy: 0.8372 - val_loss: 1.5005 - val_accuracy: 0.7491\n",
            "Epoch 33/100\n",
            "296/296 [==============================] - 1s 4ms/step - loss: 0.5431 - accuracy: 0.8358 - val_loss: 1.5297 - val_accuracy: 0.7515\n",
            "Epoch 34/100\n",
            "296/296 [==============================] - 1s 5ms/step - loss: 0.5303 - accuracy: 0.8396 - val_loss: 1.5608 - val_accuracy: 0.7574\n",
            "Epoch 35/100\n",
            "296/296 [==============================] - 1s 4ms/step - loss: 0.5332 - accuracy: 0.8389 - val_loss: 1.5027 - val_accuracy: 0.7666\n",
            "Epoch 36/100\n",
            "296/296 [==============================] - 1s 4ms/step - loss: 0.5192 - accuracy: 0.8427 - val_loss: 1.5689 - val_accuracy: 0.7547\n",
            "Epoch 37/100\n",
            "296/296 [==============================] - 1s 5ms/step - loss: 0.5113 - accuracy: 0.8451 - val_loss: 1.5775 - val_accuracy: 0.7638\n",
            "Epoch 38/100\n",
            "296/296 [==============================] - 1s 4ms/step - loss: 0.5177 - accuracy: 0.8473 - val_loss: 1.5788 - val_accuracy: 0.7594\n",
            "Epoch 39/100\n",
            "296/296 [==============================] - 1s 4ms/step - loss: 0.5163 - accuracy: 0.8464 - val_loss: 1.6045 - val_accuracy: 0.7617\n",
            "Epoch 40/100\n",
            "296/296 [==============================] - 1s 4ms/step - loss: 0.5089 - accuracy: 0.8500 - val_loss: 1.7179 - val_accuracy: 0.7599\n",
            "Epoch 41/100\n",
            "296/296 [==============================] - 1s 4ms/step - loss: 0.5214 - accuracy: 0.8456 - val_loss: 1.6884 - val_accuracy: 0.7572\n",
            "Epoch 42/100\n",
            "296/296 [==============================] - 1s 4ms/step - loss: 0.5107 - accuracy: 0.8508 - val_loss: 1.7885 - val_accuracy: 0.7575\n",
            "Epoch 43/100\n",
            "296/296 [==============================] - 1s 4ms/step - loss: 0.5173 - accuracy: 0.8469 - val_loss: 1.8770 - val_accuracy: 0.7500\n",
            "Epoch 44/100\n",
            "296/296 [==============================] - 1s 4ms/step - loss: 0.5372 - accuracy: 0.8454 - val_loss: 1.6910 - val_accuracy: 0.7583\n",
            "Epoch 45/100\n",
            "296/296 [==============================] - 1s 4ms/step - loss: 0.5010 - accuracy: 0.8492 - val_loss: 1.7972 - val_accuracy: 0.7600\n",
            "Epoch 46/100\n",
            "296/296 [==============================] - 1s 4ms/step - loss: 0.5127 - accuracy: 0.8495 - val_loss: 1.8434 - val_accuracy: 0.7580\n",
            "Epoch 47/100\n",
            "296/296 [==============================] - 1s 4ms/step - loss: 0.5118 - accuracy: 0.8499 - val_loss: 1.7948 - val_accuracy: 0.7582\n",
            "Epoch 48/100\n",
            "296/296 [==============================] - 1s 4ms/step - loss: 0.4993 - accuracy: 0.8504 - val_loss: 1.9597 - val_accuracy: 0.7618\n",
            "Epoch 49/100\n",
            "296/296 [==============================] - 1s 4ms/step - loss: 0.4980 - accuracy: 0.8552 - val_loss: 1.8789 - val_accuracy: 0.7644\n",
            "Epoch 50/100\n",
            "296/296 [==============================] - 1s 4ms/step - loss: 0.4742 - accuracy: 0.8580 - val_loss: 1.9542 - val_accuracy: 0.7623\n",
            "Epoch 51/100\n",
            "296/296 [==============================] - 1s 4ms/step - loss: 0.4701 - accuracy: 0.8602 - val_loss: 1.9545 - val_accuracy: 0.7616\n",
            "Epoch 52/100\n",
            "296/296 [==============================] - 1s 4ms/step - loss: 0.4847 - accuracy: 0.8576 - val_loss: 2.0048 - val_accuracy: 0.7616\n",
            "Epoch 53/100\n",
            "296/296 [==============================] - 1s 4ms/step - loss: 0.4783 - accuracy: 0.8557 - val_loss: 2.0609 - val_accuracy: 0.7605\n",
            "Epoch 54/100\n",
            "296/296 [==============================] - 1s 4ms/step - loss: 0.4855 - accuracy: 0.8564 - val_loss: 2.0790 - val_accuracy: 0.7545\n",
            "Epoch 55/100\n",
            "296/296 [==============================] - 1s 4ms/step - loss: 0.5034 - accuracy: 0.8536 - val_loss: 2.0923 - val_accuracy: 0.7627\n",
            "Epoch 56/100\n",
            "296/296 [==============================] - 1s 4ms/step - loss: 0.4932 - accuracy: 0.8593 - val_loss: 2.1035 - val_accuracy: 0.7586\n",
            "Epoch 57/100\n",
            "296/296 [==============================] - 1s 4ms/step - loss: 0.4853 - accuracy: 0.8597 - val_loss: 2.1651 - val_accuracy: 0.7604\n",
            "Epoch 58/100\n",
            "296/296 [==============================] - 1s 4ms/step - loss: 0.4623 - accuracy: 0.8635 - val_loss: 2.0824 - val_accuracy: 0.7689\n",
            "Epoch 59/100\n",
            "296/296 [==============================] - 1s 4ms/step - loss: 0.4563 - accuracy: 0.8636 - val_loss: 2.1896 - val_accuracy: 0.7573\n",
            "Epoch 60/100\n",
            "296/296 [==============================] - 1s 4ms/step - loss: 0.4844 - accuracy: 0.8609 - val_loss: 2.2514 - val_accuracy: 0.7574\n",
            "Epoch 61/100\n",
            "296/296 [==============================] - 1s 4ms/step - loss: 0.4664 - accuracy: 0.8647 - val_loss: 2.2900 - val_accuracy: 0.7529\n",
            "Epoch 62/100\n",
            "296/296 [==============================] - 1s 4ms/step - loss: 0.4785 - accuracy: 0.8600 - val_loss: 2.2682 - val_accuracy: 0.7551\n",
            "Epoch 63/100\n",
            "296/296 [==============================] - 1s 4ms/step - loss: 0.4698 - accuracy: 0.8611 - val_loss: 2.2700 - val_accuracy: 0.7652\n",
            "Epoch 64/100\n",
            "296/296 [==============================] - 1s 4ms/step - loss: 0.4658 - accuracy: 0.8640 - val_loss: 2.3288 - val_accuracy: 0.7571\n",
            "Epoch 65/100\n",
            "296/296 [==============================] - 2s 5ms/step - loss: 0.4444 - accuracy: 0.8678 - val_loss: 2.4579 - val_accuracy: 0.7574\n",
            "Epoch 66/100\n",
            "296/296 [==============================] - 1s 4ms/step - loss: 0.4554 - accuracy: 0.8678 - val_loss: 2.3352 - val_accuracy: 0.7647\n",
            "Epoch 67/100\n",
            "296/296 [==============================] - 1s 4ms/step - loss: 0.4501 - accuracy: 0.8690 - val_loss: 2.4504 - val_accuracy: 0.7538\n",
            "Epoch 68/100\n",
            "296/296 [==============================] - 1s 4ms/step - loss: 0.4561 - accuracy: 0.8653 - val_loss: 2.5528 - val_accuracy: 0.7595\n",
            "Epoch 69/100\n",
            "296/296 [==============================] - 1s 4ms/step - loss: 0.4677 - accuracy: 0.8660 - val_loss: 2.4774 - val_accuracy: 0.7527\n",
            "Epoch 70/100\n",
            "296/296 [==============================] - 1s 4ms/step - loss: 0.4438 - accuracy: 0.8679 - val_loss: 2.5330 - val_accuracy: 0.7604\n",
            "Epoch 71/100\n",
            "296/296 [==============================] - 1s 4ms/step - loss: 0.4403 - accuracy: 0.8692 - val_loss: 2.5905 - val_accuracy: 0.7643\n",
            "Epoch 72/100\n",
            "296/296 [==============================] - 1s 4ms/step - loss: 0.4561 - accuracy: 0.8676 - val_loss: 2.5585 - val_accuracy: 0.7623\n",
            "Epoch 73/100\n",
            "296/296 [==============================] - 1s 4ms/step - loss: 0.4295 - accuracy: 0.8705 - val_loss: 2.5574 - val_accuracy: 0.7606\n",
            "Epoch 74/100\n",
            "296/296 [==============================] - 1s 4ms/step - loss: 0.4653 - accuracy: 0.8665 - val_loss: 2.5927 - val_accuracy: 0.7632\n",
            "Epoch 75/100\n",
            "296/296 [==============================] - 1s 4ms/step - loss: 0.4315 - accuracy: 0.8765 - val_loss: 2.6539 - val_accuracy: 0.7549\n",
            "Epoch 76/100\n",
            "296/296 [==============================] - 1s 5ms/step - loss: 0.4485 - accuracy: 0.8688 - val_loss: 2.6836 - val_accuracy: 0.7555\n",
            "Epoch 77/100\n",
            "296/296 [==============================] - 1s 4ms/step - loss: 0.4318 - accuracy: 0.8743 - val_loss: 2.7666 - val_accuracy: 0.7626\n",
            "Epoch 78/100\n",
            "296/296 [==============================] - 1s 4ms/step - loss: 0.4281 - accuracy: 0.8715 - val_loss: 2.7386 - val_accuracy: 0.7632\n",
            "Epoch 79/100\n",
            "296/296 [==============================] - 1s 4ms/step - loss: 0.4567 - accuracy: 0.8702 - val_loss: 2.8282 - val_accuracy: 0.7581\n",
            "Epoch 80/100\n",
            "296/296 [==============================] - 2s 5ms/step - loss: 0.4590 - accuracy: 0.8711 - val_loss: 2.8255 - val_accuracy: 0.7586\n",
            "Epoch 81/100\n",
            "296/296 [==============================] - 1s 4ms/step - loss: 0.4635 - accuracy: 0.8674 - val_loss: 2.8540 - val_accuracy: 0.7621\n",
            "Epoch 82/100\n",
            "296/296 [==============================] - 1s 4ms/step - loss: 0.4344 - accuracy: 0.8741 - val_loss: 2.7959 - val_accuracy: 0.7564\n",
            "Epoch 83/100\n",
            "296/296 [==============================] - 1s 5ms/step - loss: 0.4358 - accuracy: 0.8727 - val_loss: 2.9700 - val_accuracy: 0.7628\n",
            "Epoch 84/100\n",
            "296/296 [==============================] - 1s 4ms/step - loss: 0.4634 - accuracy: 0.8695 - val_loss: 2.9233 - val_accuracy: 0.7580\n",
            "Epoch 85/100\n",
            "296/296 [==============================] - 1s 4ms/step - loss: 0.4461 - accuracy: 0.8737 - val_loss: 2.8233 - val_accuracy: 0.7570\n",
            "Epoch 86/100\n",
            "296/296 [==============================] - 1s 4ms/step - loss: 0.4362 - accuracy: 0.8728 - val_loss: 3.0008 - val_accuracy: 0.7646\n",
            "Epoch 87/100\n",
            "296/296 [==============================] - 1s 4ms/step - loss: 0.4199 - accuracy: 0.8784 - val_loss: 3.0635 - val_accuracy: 0.7566\n",
            "Epoch 88/100\n",
            "296/296 [==============================] - 2s 5ms/step - loss: 0.4381 - accuracy: 0.8723 - val_loss: 2.9350 - val_accuracy: 0.7626\n",
            "Epoch 89/100\n",
            "296/296 [==============================] - 1s 4ms/step - loss: 0.3964 - accuracy: 0.8784 - val_loss: 3.0678 - val_accuracy: 0.7617\n",
            "Epoch 90/100\n",
            "296/296 [==============================] - 1s 4ms/step - loss: 0.4175 - accuracy: 0.8779 - val_loss: 3.1566 - val_accuracy: 0.7504\n",
            "Epoch 91/100\n",
            "296/296 [==============================] - 1s 4ms/step - loss: 0.4357 - accuracy: 0.8747 - val_loss: 3.1417 - val_accuracy: 0.7574\n",
            "Epoch 92/100\n",
            "296/296 [==============================] - 1s 4ms/step - loss: 0.4098 - accuracy: 0.8768 - val_loss: 3.2415 - val_accuracy: 0.7570\n",
            "Epoch 93/100\n",
            "296/296 [==============================] - 1s 4ms/step - loss: 0.4359 - accuracy: 0.8764 - val_loss: 3.4136 - val_accuracy: 0.7508\n",
            "Epoch 94/100\n",
            "296/296 [==============================] - 1s 4ms/step - loss: 0.4590 - accuracy: 0.8733 - val_loss: 3.2774 - val_accuracy: 0.7622\n",
            "Epoch 95/100\n",
            "296/296 [==============================] - 1s 4ms/step - loss: 0.4289 - accuracy: 0.8770 - val_loss: 3.2087 - val_accuracy: 0.7635\n",
            "Epoch 96/100\n",
            "296/296 [==============================] - 1s 4ms/step - loss: 0.4289 - accuracy: 0.8766 - val_loss: 3.3793 - val_accuracy: 0.7605\n",
            "Epoch 97/100\n",
            "296/296 [==============================] - 1s 4ms/step - loss: 0.4514 - accuracy: 0.8733 - val_loss: 3.3122 - val_accuracy: 0.7611\n",
            "Epoch 98/100\n",
            "296/296 [==============================] - 1s 5ms/step - loss: 0.4197 - accuracy: 0.8816 - val_loss: 3.4313 - val_accuracy: 0.7617\n",
            "Epoch 99/100\n",
            "296/296 [==============================] - 1s 5ms/step - loss: 0.3855 - accuracy: 0.8839 - val_loss: 3.4449 - val_accuracy: 0.7620\n",
            "Epoch 100/100\n",
            "296/296 [==============================] - 1s 4ms/step - loss: 0.4083 - accuracy: 0.8817 - val_loss: 3.4979 - val_accuracy: 0.7655\n"
          ],
          "name": "stdout"
        }
      ]
    },
    {
      "cell_type": "code",
      "metadata": {
        "id": "SVGfOIX9a4RN"
      },
      "source": [
        "# Enter the directory where you want the training results to be stored >>\n",
        "files_dir = '/content/'\n",
        "\n",
        "# Storing the history of training in a CSV file in the directory\n",
        "hist_df = pd.DataFrame(Details.history)\n",
        "hist_file_title = files_dir+'history_'+str(Epochs)+'_'+str(Batch_size)+'_'+str(Number_of_hidden_layers)+'_'+str(Hidden_layer_neurons)+'.csv'\n",
        "with open(hist_file_title, mode='w') as f:\n",
        "    hist_df.to_csv(f)"
      ],
      "execution_count": 74,
      "outputs": []
    },
    {
      "cell_type": "code",
      "metadata": {
        "colab": {
          "base_uri": "https://localhost:8080/",
          "height": 350
        },
        "id": "ZJsC9_KFa8rN",
        "outputId": "0a50db31-8bed-4236-fb96-561e33d5a8f9"
      },
      "source": [
        "# Plotting the Accuracy V/S Epoch graph of training\n",
        "plt.figure(figsize=(5,5))\n",
        "plt.plot(Details.history['accuracy'])\n",
        "plt.plot(Details.history['val_accuracy'])\n",
        "title = 'Model Accuracy'+' (Epochs = '+str(Epochs)+')'+' (BatchSize = '+str(Batch_size)+') ('+str(Number_of_hidden_layers)+' hidden layers with '+str(Hidden_layer_neurons)+' neurons)'\n",
        "plt.title(title)\n",
        "plt.ylabel('Accuracy')\n",
        "plt.xlabel('Epochs')\n",
        "plt.grid()\n",
        "plt.legend(['Train', 'Validation'], loc='upper left')\n",
        "file_name = files_dir+'Accuracy_'+str(Epochs)+'_'+str(Batch_size)+'_'+str(Number_of_hidden_layers)+'_'+str(Hidden_layer_neurons)\n",
        "plt.savefig(file_name)\n",
        "plt.show()"
      ],
      "execution_count": 76,
      "outputs": [
        {
          "output_type": "display_data",
          "data": {
            "image/png": "[encoded data removed]",
            "text/plain": [
              "<Figure size 360x360 with 1 Axes>"
            ]
          },
          "metadata": {
            "tags": [],
            "needs_background": "light"
          }
        }
      ]
    },
    {
      "cell_type": "code",
      "metadata": {
        "colab": {
          "base_uri": "https://localhost:8080/"
        },
        "id": "IxW3yz-pbQYg",
        "outputId": "27d3f02a-24cb-4467-f3ec-12f1ef9797bf"
      },
      "source": [
        "# Predicting the Test image labels and noting the training accuracy\n",
        "y_pred = np.argmax(Model.predict(TestImages), axis=-1)\n",
        "test_accuracy = (18800 - np.count_nonzero(TestLabels-y_pred))*100/18800\n",
        "print(\"Testing Accuracy : \",test_accuracy,'%')"
      ],
      "execution_count": 77,
      "outputs": [
        {
          "output_type": "stream",
          "text": [
            "Testing Accuracy :  76.10106382978724 %\n"
          ],
          "name": "stdout"
        }
      ]
    },
    {
      "cell_type": "code",
      "metadata": {
        "colab": {
          "base_uri": "https://localhost:8080/"
        },
        "id": "X3QK2qiopKAk",
        "outputId": "507b0a6e-f2ac-4f45-b80a-2ef32984680d"
      },
      "source": [
        "#5(d) Creating a confusion matrix to understand the most confused classes (characters).\n",
        "\n",
        "ConfusionMatrix = np.zeros([47,47])\n",
        "TrueLabels=TestLabels.reshape(-1,1)\n",
        "PredictedLabels = y_pred.reshape(-1,1)\n",
        "AllLabels=np.hstack((TrueLabels,PredictedLabels))\n",
        "for i in range(TrueLabels.shape[0]):\n",
        "  ConfusionMatrix[int(AllLabels[i,0])][int(AllLabels[i,1])]+=1\n",
        "\n",
        "print(\"\\nConfusion Matrix (check the saved CSV file for details): \\n\")\n",
        "print(ConfusionMatrix)\n",
        "conf_mat = pd.DataFrame(ConfusionMatrix)\n",
        "conf_mat_file = files_dir+'ConfusionMatrix_'+str(Epochs)+'_'+str(Batch_size)+'_'+str(Number_of_hidden_layers)+'_'+str(Hidden_layer_neurons)+'.csv'\n",
        "with open(conf_mat_file, mode='w') as f:\n",
        "    conf_mat.to_csv(f)\n"
      ],
      "execution_count": 78,
      "outputs": [
        {
          "output_type": "stream",
          "text": [
            "\n",
            "Confusion Matrix (check the saved CSV file for details): \n",
            "\n",
            "[[273.   0.   0. ...   1.   0.   0.]\n",
            " [  0. 195.   2. ...   2.   1.   2.]\n",
            " [  0.   0. 309. ...   2.   1.   0.]\n",
            " ...\n",
            " [  0.   1.   2. ... 186.   1.   0.]\n",
            " [  0.   0.   0. ...   0. 358.   3.]\n",
            " [  0.   1.   0. ...   2.   5. 307.]]\n"
          ],
          "name": "stdout"
        }
      ]
    },
    {
      "cell_type": "code",
      "metadata": {
        "colab": {
          "base_uri": "https://localhost:8080/",
          "height": 333
        },
        "id": "0vn6T_jYNE3b",
        "outputId": "3d34bd8a-bedb-4e23-d4bf-c59205d6c915"
      },
      "source": [
        "# Classifying the test character entered by the user:\n",
        "True_label=int(input(\"Enter the true label of the test image you want to classify (between 0 to 46) :\"))\n",
        "\n",
        "# Randomly selecting a Test image having true label = (label entered by user) from the set of Test images\n",
        "temp_array = np.hstack((TrainImages,TrainLabels.reshape(112800,1))) \n",
        "np.random.shuffle(temp_array)\n",
        "for Image in temp_array:\n",
        "  if Image[784]==True_label:\n",
        "    Test_Image=Image\n",
        "    break\n",
        "  else:\n",
        "    continue\n",
        "\n",
        "#Plotting the selected test image:\n",
        "Imagetitle=\"True label for test image is \"+ str(ReadableLabels(True_label))\n",
        "plt.imshow(Test_Image[:-1].reshape(28,28))\n",
        "plt.title(Imagetitle)\n",
        "plt.show()\n",
        "\n",
        "#Classifying the selected test image\n",
        "Test_Image=Test_Image[0:784].reshape(-1,784)\n",
        "Test_Image = np.asarray(Test_Image)\n",
        "y_pred = np.argmax(Model.predict(Test_Image), axis=-1)\n",
        "print(\"\\nLabel predicted by neural network : \",ReadableLabels(y_pred))"
      ],
      "execution_count": 79,
      "outputs": [
        {
          "output_type": "stream",
          "text": [
            "Enter the true label of the test image you want to classify (between 0 to 46) :23\n"
          ],
          "name": "stdout"
        },
        {
          "output_type": "display_data",
          "data": {
            "image/png": "[encoded data removed]",
            "text/plain": [
              "<Figure size 432x288 with 1 Axes>"
            ]
          },
          "metadata": {
            "tags": [],
            "needs_background": "light"
          }
        },
        {
          "output_type": "stream",
          "text": [
            "\n",
            "Label predicted by neural network :  ['N']\n"
          ],
          "name": "stdout"
        }
      ]
    }
  ]
}